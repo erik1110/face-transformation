{
 "cells": [
  {
   "cell_type": "code",
   "execution_count": 46,
   "metadata": {},
   "outputs": [],
   "source": [
    "import dlib\n",
    "import cv2\n",
    "import numpy as np\n",
    "import matplotlib.pyplot as plt\n",
    "import os "
   ]
  },
  {
   "cell_type": "code",
   "execution_count": 51,
   "metadata": {},
   "outputs": [],
   "source": [
    "def get_face_point(img_path):\n",
    "    \"\"\"\n",
    "    detect the face \n",
    "    Args:\n",
    "        img_path: the path of the image\n",
    "    retrun:\n",
    "        if it detects the face:\n",
    "            img: show the position on the original image\n",
    "            pos: the dictiony of the face position\n",
    "        else:\n",
    "            False\n",
    "            False\n",
    "    \"\"\"\n",
    "    img = cv2.imread(img_path)\n",
    "    \n",
    "    # 使用官方提供的模型構建特徵提取器\n",
    "    predictor = dlib.shape_predictor('shape_predictor_68_face_landmarks.dat')\n",
    "    \n",
    "    # 使用dlib的frontal_face_detector作為人臉檢測器\n",
    "    detector = dlib.get_frontal_face_detector()\n",
    "    \n",
    "    # 與人臉檢測程序相同,使用detector進行人臉檢測 dets為返回的結果\n",
    "    dets = detector(img, 1)\n",
    "    if len(dets)!=0:\n",
    "        # 使用enumerate 函數遍歷序列中的元素以及它們的下標\n",
    "        # 下標k即為人臉序號\n",
    "        # left：人臉左邊距離圖片左邊界的距離 ；right：人臉右邊距離圖片左邊界的距離\n",
    "        # top：人臉上邊距離圖片上邊界的距離 ；bottom：人臉下邊距離圖片上邊界的距離\n",
    "        for k, d in enumerate(dets):\n",
    "            #print(\"dets{}\".format(d))\n",
    "            #print(\"Detection {}: Left: {} Top: {} Right: {} Bottom: {}\".format(\n",
    "            #    k, d.left(), d.top(), d.right(), d.bottom()))\n",
    "            # 使用predictor進行人臉關鍵點識別 shape為返回的結果\n",
    "            shape = predictor(img, d)\n",
    "        \n",
    "        pos = {}\n",
    "        # 繪製特徵點\n",
    "        for index, pt in enumerate(shape.parts()):\n",
    "            # print('Part {}: {}'.format(index, pt))\n",
    "            # save position to pos(dict)\n",
    "            pos[index] = pt\n",
    "            pt_pos = (pt.x, pt.y)\n",
    "            cv2.circle(img, pt_pos, 1, (255, 0, 0), 2)\n",
    "            #利用cv2.putText輸出1-68\n",
    "            font = cv2.FONT_HERSHEY_SIMPLEX\n",
    "            cv2.putText(img, str(index+1),pt_pos,font, 0.3, (0, 0, 255), 1, cv2.LINE_AA)\n",
    "        print(f'[Good!]Successfully detect face feature: {img_path}')\n",
    "        return img, pos\n",
    "    \n",
    "    else:\n",
    "        print(f'[Bad!]Cannot detect face feature: {img_path}')\n",
    "        return False, False"
   ]
  },
  {
   "cell_type": "code",
   "execution_count": 47,
   "metadata": {},
   "outputs": [
    {
     "name": "stdout",
     "output_type": "stream",
     "text": [
      "Cannot detect face feature: /Users/erik/GitHub/FaceApp/CycleGan/man/matthewholt174.jpg\n"
     ]
    }
   ],
   "source": [
    "# 單次\n",
    "path = \"/Users/erik/GitHub/FaceApp/CycleGan/man/matthewholt174.jpg\"\n",
    "img, _ = get_face_point(path)\n",
    "if (type(img) is np.ndarray):\n",
    "    img = cv2.cvtColor(img, cv2.COLOR_BGR2RGB)\n",
    "    plt.imshow(img)\n",
    "else:\n",
    "    os.remove(path)"
   ]
  },
  {
   "cell_type": "code",
   "execution_count": 52,
   "metadata": {},
   "outputs": [],
   "source": [
    "import glob \n",
    "img_paths = glob.glob(\"/Users/erik/GitHub/FaceApp/CycleGan/man/*.jpg\")"
   ]
  },
  {
   "cell_type": "code",
   "execution_count": null,
   "metadata": {},
   "outputs": [
    {
     "name": "stdout",
     "output_type": "stream",
     "text": [
      "[Good!]Successfully detect face feature: /Users/erik/GitHub/FaceApp/CycleGan/man/taghandsome114.jpg\n",
      "[Good!]Successfully detect face feature: /Users/erik/GitHub/FaceApp/CycleGan/man/tagactor42.jpg\n",
      "[Good!]Successfully detect face feature: /Users/erik/GitHub/FaceApp/CycleGan/man/tagactor81.jpg\n",
      "[Good!]Successfully detect face feature: /Users/erik/GitHub/FaceApp/CycleGan/man/tagmalemodel476.jpg\n",
      "[Good!]Successfully detect face feature: /Users/erik/GitHub/FaceApp/CycleGan/man/tagasianman81.jpg\n",
      "[Good!]Successfully detect face feature: /Users/erik/GitHub/FaceApp/CycleGan/man/tagmalemodel310.jpg\n",
      "[Good!]Successfully detect face feature: /Users/erik/GitHub/FaceApp/CycleGan/man/tagasianman95.jpg\n",
      "[Good!]Successfully detect face feature: /Users/erik/GitHub/FaceApp/CycleGan/man/tagactor8.jpg\n",
      "[Good!]Successfully detect face feature: /Users/erik/GitHub/FaceApp/CycleGan/man/tagactor261.jpg\n",
      "[Bad!]Cannot detect face feature: /Users/erik/GitHub/FaceApp/CycleGan/man/tagactor275.jpg\n",
      "[Good!]Successfully detect face feature: /Users/erik/GitHub/FaceApp/CycleGan/man/tagmalemodel338.jpg\n",
      "[Good!]Successfully detect face feature: /Users/erik/GitHub/FaceApp/CycleGan/man/tagasianman42.jpg\n",
      "[Bad!]Cannot detect face feature: /Users/erik/GitHub/FaceApp/CycleGan/man/tagmalemodel489.jpg\n",
      "[Bad!]Cannot detect face feature: /Users/erik/GitHub/FaceApp/CycleGan/man/tagmalemodel502.jpg\n",
      "[Good!]Successfully detect face feature: /Users/erik/GitHub/FaceApp/CycleGan/man/tagman192.jpg\n",
      "[Good!]Successfully detect face feature: /Users/erik/GitHub/FaceApp/CycleGan/man/tagmalemodel264.jpg\n",
      "[Good!]Successfully detect face feature: /Users/erik/GitHub/FaceApp/CycleGan/man/tagmalemodel270.jpg\n",
      "[Bad!]Cannot detect face feature: /Users/erik/GitHub/FaceApp/CycleGan/man/tagmalemodel258.jpg\n",
      "[Good!]Successfully detect face feature: /Users/erik/GitHub/FaceApp/CycleGan/man/tagactor301.jpg\n",
      "[Good!]Successfully detect face feature: /Users/erik/GitHub/FaceApp/CycleGan/man/nickthereal4sho18.jpg\n",
      "[Good!]Successfully detect face feature: /Users/erik/GitHub/FaceApp/CycleGan/man/tagman151.jpg\n",
      "[Good!]Successfully detect face feature: /Users/erik/GitHub/FaceApp/CycleGan/man/matthewholt165.jpg\n",
      "[Bad!]Cannot detect face feature: /Users/erik/GitHub/FaceApp/CycleGan/man/matthewholt171.jpg\n",
      "[Good!]Successfully detect face feature: /Users/erik/GitHub/FaceApp/CycleGan/man/matthewholt159.jpg\n",
      "[Bad!]Cannot detect face feature: /Users/erik/GitHub/FaceApp/CycleGan/man/tagmalemodel46.jpg\n",
      "[Bad!]Cannot detect face feature: /Users/erik/GitHub/FaceApp/CycleGan/man/tagmalemodel52.jpg\n",
      "[Good!]Successfully detect face feature: /Users/erik/GitHub/FaceApp/CycleGan/man/tagman384.jpg\n",
      "[Good!]Successfully detect face feature: /Users/erik/GitHub/FaceApp/CycleGan/man/iamrenanpacheco38.jpg\n",
      "[Good!]Successfully detect face feature: /Users/erik/GitHub/FaceApp/CycleGan/man/tagactor117.jpg\n",
      "[Bad!]Cannot detect face feature: /Users/erik/GitHub/FaceApp/CycleGan/man/iamrenanpacheco10.jpg\n",
      "[Good!]Successfully detect face feature: /Users/erik/GitHub/FaceApp/CycleGan/man/tagactor103.jpg\n",
      "[Good!]Successfully detect face feature: /Users/erik/GitHub/FaceApp/CycleGan/man/tagmalemodel85.jpg\n",
      "[Good!]Successfully detect face feature: /Users/erik/GitHub/FaceApp/CycleGan/man/tagman421.jpg\n",
      "[Good!]Successfully detect face feature: /Users/erik/GitHub/FaceApp/CycleGan/man/tagmalemodel91.jpg\n",
      "[Good!]Successfully detect face feature: /Users/erik/GitHub/FaceApp/CycleGan/man/iamrenanpacheco5.jpg\n",
      "[Good!]Successfully detect face feature: /Users/erik/GitHub/FaceApp/CycleGan/man/tagman409.jpg\n",
      "[Good!]Successfully detect face feature: /Users/erik/GitHub/FaceApp/CycleGan/man/tagmalemodel90.jpg\n",
      "[Good!]Successfully detect face feature: /Users/erik/GitHub/FaceApp/CycleGan/man/iamrenanpacheco4.jpg\n",
      "[Bad!]Cannot detect face feature: /Users/erik/GitHub/FaceApp/CycleGan/man/tagmalemodel84.jpg\n",
      "[Good!]Successfully detect face feature: /Users/erik/GitHub/FaceApp/CycleGan/man/tagman434.jpg\n",
      "[Good!]Successfully detect face feature: /Users/erik/GitHub/FaceApp/CycleGan/man/tagactor102.jpg\n",
      "[Good!]Successfully detect face feature: /Users/erik/GitHub/FaceApp/CycleGan/man/iamrenanpacheco11.jpg\n",
      "[Good!]Successfully detect face feature: /Users/erik/GitHub/FaceApp/CycleGan/man/tagactor116.jpg\n"
     ]
    }
   ],
   "source": [
    "# 多次\n",
    "for path in img_paths:\n",
    "    img, _ = get_face_point(path)\n",
    "    if (type(img) is np.ndarray):\n",
    "        img = cv2.cvtColor(img, cv2.COLOR_BGR2RGB)\n",
    "        # plt.imshow(img)\n",
    "    else:\n",
    "        os.remove(path)"
   ]
  },
  {
   "cell_type": "code",
   "execution_count": null,
   "metadata": {},
   "outputs": [],
   "source": []
  }
 ],
 "metadata": {
  "kernelspec": {
   "display_name": "Python 3",
   "language": "python",
   "name": "python3"
  },
  "language_info": {
   "codemirror_mode": {
    "name": "ipython",
    "version": 3
   },
   "file_extension": ".py",
   "mimetype": "text/x-python",
   "name": "python",
   "nbconvert_exporter": "python",
   "pygments_lexer": "ipython3",
   "version": "3.7.5"
  }
 },
 "nbformat": 4,
 "nbformat_minor": 4
}
