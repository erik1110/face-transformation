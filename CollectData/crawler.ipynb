{
 "cells": [
  {
   "cell_type": "markdown",
   "metadata": {},
   "source": [
    "# Create File"
   ]
  },
  {
   "cell_type": "code",
   "execution_count": null,
   "metadata": {},
   "outputs": [],
   "source": [
    "import os"
   ]
  },
  {
   "cell_type": "code",
   "execution_count": null,
   "metadata": {},
   "outputs": [],
   "source": [
    "if not os.path.exists('./man')\n",
    "    os.mkdir('./man')\n",
    "if not os.path.exists('./woman')\n",
    "    os.mkdir('./woman')"
   ]
  },
  {
   "cell_type": "markdown",
   "metadata": {},
   "source": [
    "# Google Search"
   ]
  },
  {
   "cell_type": "code",
   "execution_count": 99,
   "metadata": {},
   "outputs": [
    {
     "name": "stderr",
     "output_type": "stream",
     "text": [
      "[WDM] - Current google-chrome version is 85.0.4183\n",
      "[WDM] - Get LATEST driver version for 85.0.4183\n",
      "[WDM] - Driver [/Users/erik/.wdm/drivers/chromedriver/mac64/85.0.4183.87/chromedriver] found in cache\n"
     ]
    },
    {
     "name": "stdout",
     "output_type": "stream",
     "text": [
      " \n"
     ]
    }
   ],
   "source": [
    "import urllib\n",
    "from selenium import webdriver\n",
    "from webdriver_manager.chrome import ChromeDriverManager\n",
    "from datetime import datetime\n",
    "from time import sleep\n",
    "import time\n",
    "\n",
    "img_name = '女人'\n",
    "save_path = 'woman'\n",
    "save_image_name = 'F'\n",
    "start = 0\n",
    "url = 'https://www.google.com.tw/search?q='+img_name+'&tbm=isch'\n",
    "driver = webdriver.Chrome(ChromeDriverManager().install())\n",
    "driver.maximize_window()\n",
    "driver.get(url)\n",
    "\n",
    "# 先將頁面下拉到最底\n",
    "pos = 0\n",
    "for i in range(100):\n",
    "    # 點擊看到更多圖片的按鈕\n",
    "    try:\n",
    "        more_output_button = driver.find_element_by_xpath('//*[@id=\"islmp\"]/div/div/div/div/div[5]/input')\n",
    "        more_output_button.click()\n",
    "    except:\n",
    "        pass\n",
    "    \n",
    "    pos += i*500 # 每次下滾500  \n",
    "    js = \"document.documentElement.scrollTop=%d\" % pos  \n",
    "    driver.execute_script(js)  \n",
    "    time.sleep(1)\n",
    "    \n",
    "    islrg = driver.find_element_by_xpath('//*[@id=\"islrg\"]')\n",
    "    imgs = islrg.find_elements_by_xpath('div/div/a/div/img')\n",
    "    \n",
    "    # 看到最後一行跳出迴圈\n",
    "    try:\n",
    "        end = driver.find_element_by_xpath('//*[@id=\"islmp\"]/div/div/div/div/div[4]/div[2]/div[1]/div').text\n",
    "        if end=='你已經看完了所有內容':\n",
    "            break\n",
    "    except:\n",
    "        pass\n",
    "\n",
    "# 存圖片\n",
    "for i, ele in enumerate(imgs):\n",
    "    # get src\n",
    "    src = imgs[i].get_attribute('src')\n",
    "    if src is not None:\n",
    "        # download the image\n",
    "        urllib.request.urlretrieve(src, '{}/{}{:05}.jpg'.format(save_path, save_image_name, i+start))"
   ]
  },
  {
   "cell_type": "markdown",
   "metadata": {},
   "source": [
    "# Instagram"
   ]
  },
  {
   "cell_type": "code",
   "execution_count": 98,
   "metadata": {},
   "outputs": [],
   "source": [
    "import requests\n",
    "from selenium import webdriver\n",
    "from webdriver_manager.chrome import ChromeDriverManager\n",
    "import time\n",
    "\n",
    "def download(save_file, save_image_name, user_id, limit=150):\n",
    "    \"\"\"\n",
    "    download instagram photo\n",
    "    Args:\n",
    "        save_file: the file for saving image\n",
    "        save_image_name: give the image special name\n",
    "        user_id: instagram id\n",
    "        limit: the limit of the photo\n",
    "    \"\"\"\n",
    "    driver = webdriver.Chrome(ChromeDriverManager().install())\n",
    "    driver.maximize_window()\n",
    "    origin_urll = 'https://www.instagram.com/'+user_id\n",
    "    driver.get(origin_urll)\n",
    "\n",
    "    time.sleep(3)\n",
    "    SCROLL_PAUSE_TIME = 3\n",
    "    images_unique=[]\n",
    "    # Get scroll height\n",
    "    last_height = driver.execute_script(\"return document.body.scrollHeight\")\n",
    "\n",
    "    while True:\n",
    "        \n",
    "        # Wait to load page\n",
    "        time.sleep(SCROLL_PAUSE_TIME)\n",
    "        \n",
    "        # Scroll down to bottom\n",
    "        driver.execute_script(\"window.scrollTo(0, document.body.scrollHeight);\")\n",
    "        \n",
    "        # Wait\n",
    "        time.sleep(1)\n",
    "        \n",
    "        # show more if exists\n",
    "        try:\n",
    "            button_name = f'顯示更多 {user_id} 的貼文'\n",
    "            show_more = driver.find_element_by_xpath(f\"//*[contains(text(),'{button_name}')]\")\n",
    "            show_more.click()\n",
    "        except:\n",
    "            pass\n",
    "        \n",
    "        # Wait to load page\n",
    "        time.sleep(SCROLL_PAUSE_TIME)\n",
    "\n",
    "        # Calculate new scroll height and compare with last scroll height\n",
    "        new_height = driver.execute_script(\"return document.body.scrollHeight\")\n",
    "        if new_height == last_height:\n",
    "            driver.execute_script(\"window.scrollTo(document.body.scrollHeight,0);\")\n",
    "            break\n",
    "            \n",
    "        # This means that there is still photos to scrap\n",
    "        last_height = new_height\n",
    "        time.sleep(1)\n",
    "        \n",
    "        # Retrive the html\n",
    "        html_to_parse=str(driver.page_source)\n",
    "        html=bs(html_to_parse,\"html5lib\")\n",
    "        \n",
    "        # Get the image's url\n",
    "        images_url=html.findAll(\"img\", {\"class\": \"FFVAD\"})\n",
    "\n",
    "        # Check if they are unique\n",
    "        in_first = set(images_unique)\n",
    "        in_second = set(images_url)\n",
    "\n",
    "        in_second_but_not_in_first = in_second - in_first\n",
    "\n",
    "        result = images_unique + list(in_second_but_not_in_first)\n",
    "        images_unique = result\n",
    "        \n",
    "        # if the images greater than the limit, break\n",
    "        if len(images_unique)>limit:\n",
    "            break\n",
    "    \n",
    "    num_images = len(images_unique)\n",
    "    print(f'抓到{num_images}張圖片')\n",
    "    #Close the webdriver   \n",
    "    driver.close()\n",
    "    \n",
    "    for i, _ in enumerate(images_unique):\n",
    "        try:\n",
    "            # Save each image.jpg file\n",
    "            name=f\"./{save_file}/{save_image_name}\"+str(i)+\".jpg\"\n",
    "            with open(name, 'wb') as handler:\n",
    "\n",
    "                img_data = requests.get(images_unique[i].get(\"src\")).content\n",
    "                handler.write(img_data)\n",
    "                \n",
    "        except:\n",
    "            print(images_unique[i])\n"
   ]
  },
  {
   "cell_type": "code",
   "execution_count": null,
   "metadata": {},
   "outputs": [
    {
     "name": "stderr",
     "output_type": "stream",
     "text": [
      "[WDM] - Current google-chrome version is 85.0.4183\n",
      "INFO:WDM:Current google-chrome version is 85.0.4183\n",
      "[WDM] - Get LATEST driver version for 85.0.4183\n",
      "INFO:WDM:Get LATEST driver version for 85.0.4183\n",
      "[WDM] - Driver [/Users/erik/.wdm/drivers/chromedriver/mac64/85.0.4183.87/chromedriver] found in cache\n",
      "INFO:WDM:Driver [/Users/erik/.wdm/drivers/chromedriver/mac64/85.0.4183.87/chromedriver] found in cache\n"
     ]
    },
    {
     "name": "stdout",
     "output_type": "stream",
     "text": [
      " \n",
      "抓到506張圖片\n"
     ]
    }
   ],
   "source": [
    "save_file = 'man'\n",
    "save_image_name = 'tagmalemodel'\n",
    "user_id = 'explore/tags/男模特兒/'\n",
    "download(save_file, save_image_name, user_id, limit=500)"
   ]
  }
 ],
 "metadata": {
  "kernelspec": {
   "display_name": "Python 3",
   "language": "python",
   "name": "python3"
  },
  "language_info": {
   "codemirror_mode": {
    "name": "ipython",
    "version": 3
   },
   "file_extension": ".py",
   "mimetype": "text/x-python",
   "name": "python",
   "nbconvert_exporter": "python",
   "pygments_lexer": "ipython3",
   "version": "3.7.5"
  }
 },
 "nbformat": 4,
 "nbformat_minor": 4
}
